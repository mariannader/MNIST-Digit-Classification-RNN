{
  "nbformat": 4,
  "nbformat_minor": 0,
  "metadata": {
    "colab": {
      "provenance": []
    },
    "kernelspec": {
      "name": "python3",
      "display_name": "Python 3"
    },
    "language_info": {
      "name": "python"
    }
  },
  "cells": [
    {
      "cell_type": "code",
      "execution_count": 1,
      "metadata": {
        "colab": {
          "base_uri": "https://localhost:8080/"
        },
        "id": "mTz1Z4OmDhfL",
        "outputId": "9d5891c0-5076-48d7-a755-896643fd4599"
      },
      "outputs": [
        {
          "output_type": "stream",
          "name": "stdout",
          "text": [
            "Using Keras version: 2.12.0 backend: tensorflow\n"
          ]
        }
      ],
      "source": [
        "%matplotlib inline\n",
        "\n",
        "from keras.models import Sequential\n",
        "from keras.layers import Dense, Activation, Dropout\n",
        "from keras.layers import SimpleRNN, LSTM, GRU \n",
        "from keras.utils import np_utils\n",
        "from keras import backend as K\n",
        "\n",
        "from distutils.version import LooseVersion as LV\n",
        "from keras import __version__\n",
        "\n",
        "from IPython.display import SVG\n",
        "from keras.utils.vis_utils import model_to_dot\n",
        "\n",
        "import numpy as np\n",
        "import matplotlib.pyplot as plt\n",
        "import seaborn as sns\n",
        "\n",
        "print('Using Keras version:', __version__, 'backend:', K.backend())\n",
        "assert(LV(__version__) >= LV(\"2.0.0\"))"
      ]
    },
    {
      "cell_type": "code",
      "source": [
        "from keras.datasets import mnist\n",
        "\n",
        "(x_train, y_train), (x_test, y_test) = mnist.load_data()\n"
      ],
      "metadata": {
        "id": "hyfg9cYdDiO8"
      },
      "execution_count": 4,
      "outputs": []
    },
    {
      "cell_type": "code",
      "source": [
        "print('MNIST data loaded: train:',len(x_train),'test:',len(x_test))\n",
        "print('X_train:', x_train.shape)\n",
        "print('y_train:', y_train.shape)\n",
        "print('Y_train:', y_train.shape)"
      ],
      "metadata": {
        "colab": {
          "base_uri": "https://localhost:8080/"
        },
        "id": "mfbGAx_bDqql",
        "outputId": "ad8186cc-df0e-4887-8a0c-ad482cd35fa4"
      },
      "execution_count": 5,
      "outputs": [
        {
          "output_type": "stream",
          "name": "stdout",
          "text": [
            "MNIST data loaded: train: 60000 test: 10000\n",
            "X_train: (60000, 28, 28)\n",
            "y_train: (60000,)\n",
            "Y_train: (60000,)\n"
          ]
        }
      ]
    },
    {
      "cell_type": "code",
      "source": [
        "# Plot the first few images\n",
        "plt.figure(figsize=(10, 10))\n",
        "for i in range(30):\n",
        "    plt.subplot(5, 10, i+1)\n",
        "    plt.imshow(x_train[i], cmap='gray')\n",
        "    plt.title(y_train[i])\n",
        "    plt.axis('off')\n",
        "plt.show()\n"
      ],
      "metadata": {
        "id": "sveHywM5Dv3Z"
      },
      "execution_count": null,
      "outputs": []
    },
    {
      "cell_type": "code",
      "source": [
        "# Plot a histogram of pixel values\n",
        "plt.hist(x_train.ravel(), bins=256, range=(0,255), histtype='step')\n",
        "plt.title('Pixel Value Distribution')\n",
        "plt.xlabel('Pixel Value')\n",
        "plt.ylabel('Frequency')\n",
        "plt.show()"
      ],
      "metadata": {
        "id": "l7GczP1LEAmD"
      },
      "execution_count": null,
      "outputs": []
    },
    {
      "cell_type": "code",
      "source": [
        "# Plot a heatmap of pixel values\n",
        "plt.figure(figsize=(10, 10))\n",
        "for i in range(25):\n",
        "    plt.subplot(5, 5, i+1)\n",
        "    plt.imshow(x_train[i], cmap='hot')\n",
        "    plt.title(y_train[i])\n",
        "    plt.axis('off')\n",
        "plt.show()"
      ],
      "metadata": {
        "id": "prb5qLnnEDmJ"
      },
      "execution_count": null,
      "outputs": []
    },
    {
      "cell_type": "code",
      "source": [
        "# Normalize the input data\n",
        "X_train = x_train / 255.0\n",
        "X_test = x_test / 255.0"
      ],
      "metadata": {
        "id": "09IgszP2EIE6"
      },
      "execution_count": 9,
      "outputs": []
    },
    {
      "cell_type": "code",
      "source": [
        "print()\n",
        "print('MNIST data loaded: train:',len(X_train),'test:',len(X_test))\n",
        "print('X_train:', X_train.shape)\n",
        "print('X_test:', X_test.shape)\n",
        "print('y_train:', y_train.shape)\n",
        "print('Y_test:', y_test.shape)"
      ],
      "metadata": {
        "colab": {
          "base_uri": "https://localhost:8080/"
        },
        "id": "6tEVvYVUEXlg",
        "outputId": "2406b588-6fc0-4399-9780-20034f403794"
      },
      "execution_count": 20,
      "outputs": [
        {
          "output_type": "stream",
          "name": "stdout",
          "text": [
            "\n",
            "MNIST data loaded: train: 60000 test: 10000\n",
            "X_train: (60000, 28, 28)\n",
            "X_test: (10000, 28, 28)\n",
            "y_train: (60000,)\n",
            "Y_test: (10000,)\n"
          ]
        }
      ]
    },
    {
      "cell_type": "code",
      "source": [
        "from keras.datasets import mnist\n",
        "from keras.models import Sequential\n",
        "from keras.layers import Conv2D, MaxPooling2D, Flatten, Dense\n",
        "import keras\n",
        "import keras.utils\n",
        "\n",
        "from keras import utils as np_utils"
      ],
      "metadata": {
        "id": "Qpn995U3E_C5"
      },
      "execution_count": 15,
      "outputs": []
    },
    {
      "cell_type": "code",
      "source": [
        "# Define the RNN model"
      ],
      "metadata": {
        "id": "Po-we6vWEZbw"
      },
      "execution_count": 13,
      "outputs": []
    },
    {
      "cell_type": "code",
      "source": [
        "model = keras.models.Sequential([\n",
        "  keras.layers.SimpleRNN(units=128, input_shape=(28, 28)),\n",
        "  keras.layers.Dense(units=10, activation='softmax')\n",
        "])"
      ],
      "metadata": {
        "id": "hQzkEPCsEuxl"
      },
      "execution_count": 16,
      "outputs": []
    },
    {
      "cell_type": "code",
      "source": [
        "print(model.summary())\n"
      ],
      "metadata": {
        "colab": {
          "base_uri": "https://localhost:8080/"
        },
        "id": "rGxUjOExFH2v",
        "outputId": "fd1bd91f-f3d4-4f8c-a1dc-c9a2c3925213"
      },
      "execution_count": 17,
      "outputs": [
        {
          "output_type": "stream",
          "name": "stdout",
          "text": [
            "Model: \"sequential\"\n",
            "_________________________________________________________________\n",
            " Layer (type)                Output Shape              Param #   \n",
            "=================================================================\n",
            " simple_rnn (SimpleRNN)      (None, 128)               20096     \n",
            "                                                                 \n",
            " dense (Dense)               (None, 10)                1290      \n",
            "                                                                 \n",
            "=================================================================\n",
            "Total params: 21,386\n",
            "Trainable params: 21,386\n",
            "Non-trainable params: 0\n",
            "_________________________________________________________________\n",
            "None\n"
          ]
        }
      ]
    },
    {
      "cell_type": "code",
      "source": [
        "#  plot the model \n",
        "from keras.utils import plot_model\n",
        "keras.utils.plot_model(model, show_shapes=True)"
      ],
      "metadata": {
        "colab": {
          "base_uri": "https://localhost:8080/",
          "height": 312
        },
        "id": "z1xsXdqZFN-p",
        "outputId": "95bad449-7e8c-4752-95e5-7480bea15126"
      },
      "execution_count": 18,
      "outputs": [
        {
          "output_type": "execute_result",
          "data": {
            "image/png": "[encoded data removed]",
            "text/plain": [
              "<IPython.core.display.Image object>"
            ]
          },
          "metadata": {},
          "execution_count": 18
        }
      ]
    },
    {
      "cell_type": "code",
      "source": [
        "SVG(model_to_dot(model, show_shapes=True).create(prog='dot', format='svg'))\n"
      ],
      "metadata": {
        "colab": {
          "base_uri": "https://localhost:8080/",
          "height": 414
        },
        "id": "TjDCiza8Frhl",
        "outputId": "2505211d-772a-47ce-b64f-93498cef081a"
      },
      "execution_count": 19,
      "outputs": [
        {
          "output_type": "execute_result",
          "data": {
            "text/plain": [
              "<IPython.core.display.SVG object>"
            ],
            "image/svg+xml": "<svg xmlns=\"http://www.w3.org/2000/svg\" xmlns:xlink=\"http://www.w3.org/1999/xlink\" width=\"376pt\" height=\"295pt\" viewBox=\"0.00 0.00 282.00 221.00\">\n<g id=\"graph0\" class=\"graph\" transform=\"scale(0.75 0.75) rotate(0) translate(4 217)\">\n<title>G</title>\n<polygon fill=\"white\" stroke=\"transparent\" points=\"-4,4 -4,-217 278,-217 278,4 -4,4\"/>\n<!-- 140555290060544 -->\n<g id=\"node1\" class=\"node\">\n<title>140555290060544</title>\n<polygon fill=\"none\" stroke=\"black\" points=\"0,-166.5 0,-212.5 274,-212.5 274,-166.5 0,-166.5\"/>\n<text text-anchor=\"middle\" x=\"56.5\" y=\"-197.3\" font-family=\"Times,serif\" font-size=\"14.00\">simple_rnn_input</text>\n<polyline fill=\"none\" stroke=\"black\" points=\"0,-189.5 113,-189.5 \"/>\n<text text-anchor=\"middle\" x=\"56.5\" y=\"-174.3\" font-family=\"Times,serif\" font-size=\"14.00\">InputLayer</text>\n<polyline fill=\"none\" stroke=\"black\" points=\"113,-166.5 113,-212.5 \"/>\n<text text-anchor=\"middle\" x=\"140.5\" y=\"-197.3\" font-family=\"Times,serif\" font-size=\"14.00\">input:</text>\n<polyline fill=\"none\" stroke=\"black\" points=\"113,-189.5 168,-189.5 \"/>\n<text text-anchor=\"middle\" x=\"140.5\" y=\"-174.3\" font-family=\"Times,serif\" font-size=\"14.00\">output:</text>\n<polyline fill=\"none\" stroke=\"black\" points=\"168,-166.5 168,-212.5 \"/>\n<text text-anchor=\"middle\" x=\"221\" y=\"-197.3\" font-family=\"Times,serif\" font-size=\"14.00\">[(None, 28, 28)]</text>\n<polyline fill=\"none\" stroke=\"black\" points=\"168,-189.5 274,-189.5 \"/>\n<text text-anchor=\"middle\" x=\"221\" y=\"-174.3\" font-family=\"Times,serif\" font-size=\"14.00\">[(None, 28, 28)]</text>\n</g>\n<!-- 140555292711088 -->\n<g id=\"node2\" class=\"node\">\n<title>140555292711088</title>\n<polygon fill=\"none\" stroke=\"black\" points=\"19,-83.5 19,-129.5 255,-129.5 255,-83.5 19,-83.5\"/>\n<text text-anchor=\"middle\" x=\"61\" y=\"-114.3\" font-family=\"Times,serif\" font-size=\"14.00\">simple_rnn</text>\n<polyline fill=\"none\" stroke=\"black\" points=\"19,-106.5 103,-106.5 \"/>\n<text text-anchor=\"middle\" x=\"61\" y=\"-91.3\" font-family=\"Times,serif\" font-size=\"14.00\">SimpleRNN</text>\n<polyline fill=\"none\" stroke=\"black\" points=\"103,-83.5 103,-129.5 \"/>\n<text text-anchor=\"middle\" x=\"130.5\" y=\"-114.3\" font-family=\"Times,serif\" font-size=\"14.00\">input:</text>\n<polyline fill=\"none\" stroke=\"black\" points=\"103,-106.5 158,-106.5 \"/>\n<text text-anchor=\"middle\" x=\"130.5\" y=\"-91.3\" font-family=\"Times,serif\" font-size=\"14.00\">output:</text>\n<polyline fill=\"none\" stroke=\"black\" points=\"158,-83.5 158,-129.5 \"/>\n<text text-anchor=\"middle\" x=\"206.5\" y=\"-114.3\" font-family=\"Times,serif\" font-size=\"14.00\">(None, 28, 28)</text>\n<polyline fill=\"none\" stroke=\"black\" points=\"158,-106.5 255,-106.5 \"/>\n<text text-anchor=\"middle\" x=\"206.5\" y=\"-91.3\" font-family=\"Times,serif\" font-size=\"14.00\">(None, 128)</text>\n</g>\n<!-- 140555290060544&#45;&gt;140555292711088 -->\n<g id=\"edge1\" class=\"edge\">\n<title>140555290060544-&gt;140555292711088</title>\n<path fill=\"none\" stroke=\"black\" d=\"M137,-166.37C137,-158.15 137,-148.66 137,-139.73\"/>\n<polygon fill=\"black\" stroke=\"black\" points=\"140.5,-139.61 137,-129.61 133.5,-139.61 140.5,-139.61\"/>\n</g>\n<!-- 140555290073216 -->\n<g id=\"node3\" class=\"node\">\n<title>140555290073216</title>\n<polygon fill=\"none\" stroke=\"black\" points=\"43,-0.5 43,-46.5 231,-46.5 231,-0.5 43,-0.5\"/>\n<text text-anchor=\"middle\" x=\"68\" y=\"-31.3\" font-family=\"Times,serif\" font-size=\"14.00\">dense</text>\n<polyline fill=\"none\" stroke=\"black\" points=\"43,-23.5 93,-23.5 \"/>\n<text text-anchor=\"middle\" x=\"68\" y=\"-8.3\" font-family=\"Times,serif\" font-size=\"14.00\">Dense</text>\n<polyline fill=\"none\" stroke=\"black\" points=\"93,-0.5 93,-46.5 \"/>\n<text text-anchor=\"middle\" x=\"120.5\" y=\"-31.3\" font-family=\"Times,serif\" font-size=\"14.00\">input:</text>\n<polyline fill=\"none\" stroke=\"black\" points=\"93,-23.5 148,-23.5 \"/>\n<text text-anchor=\"middle\" x=\"120.5\" y=\"-8.3\" font-family=\"Times,serif\" font-size=\"14.00\">output:</text>\n<polyline fill=\"none\" stroke=\"black\" points=\"148,-0.5 148,-46.5 \"/>\n<text text-anchor=\"middle\" x=\"189.5\" y=\"-31.3\" font-family=\"Times,serif\" font-size=\"14.00\">(None, 128)</text>\n<polyline fill=\"none\" stroke=\"black\" points=\"148,-23.5 231,-23.5 \"/>\n<text text-anchor=\"middle\" x=\"189.5\" y=\"-8.3\" font-family=\"Times,serif\" font-size=\"14.00\">(None, 10)</text>\n</g>\n<!-- 140555292711088&#45;&gt;140555290073216 -->\n<g id=\"edge2\" class=\"edge\">\n<title>140555292711088-&gt;140555290073216</title>\n<path fill=\"none\" stroke=\"black\" d=\"M137,-83.37C137,-75.15 137,-65.66 137,-56.73\"/>\n<polygon fill=\"black\" stroke=\"black\" points=\"140.5,-56.61 137,-46.61 133.5,-56.61 140.5,-56.61\"/>\n</g>\n</g>\n</svg>"
          },
          "metadata": {},
          "execution_count": 19
        }
      ]
    },
    {
      "cell_type": "markdown",
      "source": [
        "Compile model with optimizer: Adam and loss : CrossEntropy\n",
        "\n",
        "---\n",
        "\n"
      ],
      "metadata": {
        "id": "_rGXj7CDFbCQ"
      }
    },
    {
      "cell_type": "code",
      "source": [
        "# Compile the model\n",
        "model.compile(optimizer='adam', loss='sparse_categorical_crossentropy', metrics=['accuracy'])"
      ],
      "metadata": {
        "id": "2QAwjvgFFWep"
      },
      "execution_count": 21,
      "outputs": []
    },
    {
      "cell_type": "code",
      "source": [
        "# Train the model\n",
        "history = model.fit(X_train, y_train, epochs=10, validation_data=(X_test, y_test))"
      ],
      "metadata": {
        "colab": {
          "base_uri": "https://localhost:8080/"
        },
        "id": "9BKy-FmpFyP5",
        "outputId": "e5782f8e-12ef-4872-90ac-f2ae802f3ae2"
      },
      "execution_count": 23,
      "outputs": [
        {
          "output_type": "stream",
          "name": "stdout",
          "text": [
            "Epoch 1/10\n",
            "1875/1875 [==============================] - 22s 12ms/step - loss: 0.1470 - accuracy: 0.9583 - val_loss: 0.1588 - val_accuracy: 0.9529\n",
            "Epoch 2/10\n",
            "1875/1875 [==============================] - 22s 12ms/step - loss: 0.1413 - accuracy: 0.9603 - val_loss: 0.1419 - val_accuracy: 0.9599\n",
            "Epoch 3/10\n",
            "1875/1875 [==============================] - 22s 12ms/step - loss: 0.1381 - accuracy: 0.9599 - val_loss: 0.1291 - val_accuracy: 0.9633\n",
            "Epoch 4/10\n",
            "1875/1875 [==============================] - 21s 11ms/step - loss: 0.1299 - accuracy: 0.9629 - val_loss: 0.1187 - val_accuracy: 0.9666\n",
            "Epoch 5/10\n",
            "1875/1875 [==============================] - 25s 13ms/step - loss: 0.1332 - accuracy: 0.9622 - val_loss: 0.1358 - val_accuracy: 0.9628\n",
            "Epoch 6/10\n",
            "1875/1875 [==============================] - 27s 14ms/step - loss: 0.1324 - accuracy: 0.9629 - val_loss: 0.1487 - val_accuracy: 0.9590\n",
            "Epoch 7/10\n",
            "1875/1875 [==============================] - 22s 12ms/step - loss: 0.1353 - accuracy: 0.9617 - val_loss: 0.1407 - val_accuracy: 0.9616\n",
            "Epoch 8/10\n",
            "1875/1875 [==============================] - 22s 12ms/step - loss: 0.1363 - accuracy: 0.9611 - val_loss: 0.1261 - val_accuracy: 0.9654\n",
            "Epoch 9/10\n",
            "1875/1875 [==============================] - 21s 11ms/step - loss: 0.1400 - accuracy: 0.9610 - val_loss: 0.1280 - val_accuracy: 0.9636\n",
            "Epoch 10/10\n",
            "1875/1875 [==============================] - 22s 12ms/step - loss: 0.1396 - accuracy: 0.9605 - val_loss: 0.1698 - val_accuracy: 0.9473\n"
          ]
        }
      ]
    },
    {
      "cell_type": "code",
      "source": [
        "# accurcy\n",
        "score = model.evaluate(X_train, y_train, verbose=0)\n",
        "print('Test loss:', score[0])\n",
        "print('Test accuracy:', score[1])\n"
      ],
      "metadata": {
        "colab": {
          "base_uri": "https://localhost:8080/"
        },
        "id": "9y9HXsnIGM66",
        "outputId": "b096590b-78fb-4f88-9387-52635fb7eaf8"
      },
      "execution_count": 24,
      "outputs": [
        {
          "output_type": "stream",
          "name": "stdout",
          "text": [
            "Test loss: 0.17132176458835602\n",
            "Test accuracy: 0.9476333260536194\n"
          ]
        }
      ]
    },
    {
      "cell_type": "code",
      "source": [
        "# loss fig \n",
        "plt.figure(figsize=(5,3))\n",
        "plt.plot(history.epoch,history.history['loss'])\n",
        "plt.title('loss')"
      ],
      "metadata": {
        "colab": {
          "base_uri": "https://localhost:8080/",
          "height": 331
        },
        "id": "1Pkn7uZXHNWk",
        "outputId": "2e9ec821-ca74-449b-c129-c5fc53c13350"
      },
      "execution_count": 25,
      "outputs": [
        {
          "output_type": "execute_result",
          "data": {
            "text/plain": [
              "Text(0.5, 1.0, 'loss')"
            ]
          },
          "metadata": {},
          "execution_count": 25
        },
        {
          "output_type": "display_data",
          "data": {
            "text/plain": [
              "<Figure size 500x300 with 1 Axes>"
            ],
            "image/png": "[encoded data removed]"
          },
          "metadata": {}
        }
      ]
    },
    {
      "cell_type": "code",
      "source": [
        "# accurcy fig\n",
        "plt.figure(figsize=(5,3))\n",
        "plt.plot(history.epoch,history.history['accuracy'])\n",
        "plt.title('accuracy');"
      ],
      "metadata": {
        "colab": {
          "base_uri": "https://localhost:8080/",
          "height": 314
        },
        "id": "gM8nzSORHRuu",
        "outputId": "1abab73c-023f-4abe-c39c-fdbeb85421ed"
      },
      "execution_count": 27,
      "outputs": [
        {
          "output_type": "display_data",
          "data": {
            "text/plain": [
              "<Figure size 500x300 with 1 Axes>"
            ],
            "image/png": "[encoded data removed]"
          },
          "metadata": {}
        }
      ]
    },
    {
      "cell_type": "markdown",
      "source": [
        "# CNN Version"
      ],
      "metadata": {
        "id": "1JRrxVqGT6a4"
      }
    },
    {
      "cell_type": "code",
      "source": [
        "print('X_train: ' + str(x_train.shape))\n",
        "print('Y_train: ' + str(y_train.shape))\n",
        "print('X_test:  '  + str(x_test.shape))\n",
        "print('Y_test:  '  + str(y_test.shape))"
      ],
      "metadata": {
        "colab": {
          "base_uri": "https://localhost:8080/"
        },
        "id": "QExJ-WZPH74c",
        "outputId": "392bfc05-a30d-4557-c7c7-0d07a72ec8b3"
      },
      "execution_count": 28,
      "outputs": [
        {
          "output_type": "stream",
          "name": "stdout",
          "text": [
            "X_train: (60000, 28, 28)\n",
            "Y_train: (60000,)\n",
            "X_test:  (10000, 28, 28)\n",
            "Y_test:  (10000,)\n"
          ]
        }
      ]
    },
    {
      "cell_type": "code",
      "source": [
        "# CNN Version\n",
        "\n",
        "# Reshape the data to have single channel (gray scale)\n",
        "x_train = x_train.reshape(x_train.shape[0], 28, 28, 1)\n",
        "x_test = x_test.reshape(x_test.shape[0], 28, 28, 1)\n",
        "input_shape = (28, 28, 1)\n"
      ],
      "metadata": {
        "id": "ksvkqBF9Txqd"
      },
      "execution_count": 29,
      "outputs": []
    },
    {
      "cell_type": "code",
      "source": [
        "print('X_train: ' + str(x_train.shape))\n",
        "print('Y_train: ' + str(y_train.shape))\n",
        "print('X_test:  '  + str(x_test.shape))\n",
        "print('Y_test:  '  + str(y_test.shape))"
      ],
      "metadata": {
        "colab": {
          "base_uri": "https://localhost:8080/"
        },
        "id": "GKxFb2D3UDZ9",
        "outputId": "a4f30ac8-8ab3-4fae-821d-b4111ecea051"
      },
      "execution_count": 30,
      "outputs": [
        {
          "output_type": "stream",
          "name": "stdout",
          "text": [
            "X_train: (60000, 28, 28, 1)\n",
            "Y_train: (60000,)\n",
            "X_test:  (10000, 28, 28, 1)\n",
            "Y_test:  (10000,)\n"
          ]
        }
      ]
    },
    {
      "cell_type": "code",
      "source": [
        "# Normalize the data\n",
        "x_train = x_train.astype('float32') / 255\n",
        "x_test = x_test.astype('float32') / 255"
      ],
      "metadata": {
        "id": "kqZOighSUF4X"
      },
      "execution_count": 31,
      "outputs": []
    },
    {
      "cell_type": "code",
      "source": [
        "\n",
        "# One-hot encode the labels\n",
        "num_classes = 10\n",
        "y_train = keras.utils.to_categorical(y_train, num_classes)\n",
        "y_test = keras.utils.to_categorical(y_test, num_classes)\n"
      ],
      "metadata": {
        "id": "EqlMSa3fUMQc"
      },
      "execution_count": 32,
      "outputs": []
    },
    {
      "cell_type": "code",
      "source": [
        "modelcnn = Sequential()\n",
        "\n",
        "# Convolution layer with 32 filters and 3x3 kernel size\n",
        "modelcnn.add(Conv2D(32, kernel_size=(3, 3), activation='relu', input_shape=input_shape))\n",
        "\n",
        "# Max pooling layer with 2x2 pool size\n",
        "modelcnn.add(MaxPooling2D(pool_size=(2, 2)))\n",
        "\n",
        "# Flatten layer\n",
        "modelcnn.add(Flatten())\n",
        "\n",
        "# Fully connected layer with 128 neurons\n",
        "modelcnn.add(Dense(128, activation='relu'))\n",
        "\n",
        "# Output layer with 10 neurons for 10 classes\n",
        "modelcnn.add(Dense(num_classes, activation='softmax'))\n",
        "\n"
      ],
      "metadata": {
        "id": "gB12_TSRUOkN"
      },
      "execution_count": 34,
      "outputs": []
    },
    {
      "cell_type": "code",
      "source": [
        "SVG(model_to_dot(modelcnn, show_shapes=True).create(prog='dot', format='svg'))\n"
      ],
      "metadata": {
        "colab": {
          "base_uri": "https://localhost:8080/",
          "height": 857
        },
        "id": "j7kwoo6zUQPT",
        "outputId": "5d745a3d-e4b0-42ac-ccbe-51fe1c69faec"
      },
      "execution_count": 35,
      "outputs": [
        {
          "output_type": "execute_result",
          "data": {
            "text/plain": [
              "<IPython.core.display.SVG object>"
            ],
            "image/svg+xml": "<svg xmlns=\"http://www.w3.org/2000/svg\" xmlns:xlink=\"http://www.w3.org/1999/xlink\" width=\"396pt\" height=\"627pt\" viewBox=\"0.00 0.00 297.00 470.00\">\n<g id=\"graph0\" class=\"graph\" transform=\"scale(0.75 0.75) rotate(0) translate(4 466)\">\n<title>G</title>\n<polygon fill=\"white\" stroke=\"transparent\" points=\"-4,4 -4,-466 293,-466 293,4 -4,4\"/>\n<!-- 140554520786448 -->\n<g id=\"node1\" class=\"node\">\n<title>140554520786448</title>\n<polygon fill=\"none\" stroke=\"black\" points=\"5,-415.5 5,-461.5 284,-461.5 284,-415.5 5,-415.5\"/>\n<text text-anchor=\"middle\" x=\"57\" y=\"-446.3\" font-family=\"Times,serif\" font-size=\"14.00\">conv2d_1_input</text>\n<polyline fill=\"none\" stroke=\"black\" points=\"5,-438.5 109,-438.5 \"/>\n<text text-anchor=\"middle\" x=\"57\" y=\"-423.3\" font-family=\"Times,serif\" font-size=\"14.00\">InputLayer</text>\n<polyline fill=\"none\" stroke=\"black\" points=\"109,-415.5 109,-461.5 \"/>\n<text text-anchor=\"middle\" x=\"136.5\" y=\"-446.3\" font-family=\"Times,serif\" font-size=\"14.00\">input:</text>\n<polyline fill=\"none\" stroke=\"black\" points=\"109,-438.5 164,-438.5 \"/>\n<text text-anchor=\"middle\" x=\"136.5\" y=\"-423.3\" font-family=\"Times,serif\" font-size=\"14.00\">output:</text>\n<polyline fill=\"none\" stroke=\"black\" points=\"164,-415.5 164,-461.5 \"/>\n<text text-anchor=\"middle\" x=\"224\" y=\"-446.3\" font-family=\"Times,serif\" font-size=\"14.00\">[(None, 28, 28, 1)]</text>\n<polyline fill=\"none\" stroke=\"black\" points=\"164,-438.5 284,-438.5 \"/>\n<text text-anchor=\"middle\" x=\"224\" y=\"-423.3\" font-family=\"Times,serif\" font-size=\"14.00\">[(None, 28, 28, 1)]</text>\n</g>\n<!-- 140554520788656 -->\n<g id=\"node2\" class=\"node\">\n<title>140554520788656</title>\n<polygon fill=\"none\" stroke=\"black\" points=\"23,-332.5 23,-378.5 266,-378.5 266,-332.5 23,-332.5\"/>\n<text text-anchor=\"middle\" x=\"58\" y=\"-363.3\" font-family=\"Times,serif\" font-size=\"14.00\">conv2d_1</text>\n<polyline fill=\"none\" stroke=\"black\" points=\"23,-355.5 93,-355.5 \"/>\n<text text-anchor=\"middle\" x=\"58\" y=\"-340.3\" font-family=\"Times,serif\" font-size=\"14.00\">Conv2D</text>\n<polyline fill=\"none\" stroke=\"black\" points=\"93,-332.5 93,-378.5 \"/>\n<text text-anchor=\"middle\" x=\"120.5\" y=\"-363.3\" font-family=\"Times,serif\" font-size=\"14.00\">input:</text>\n<polyline fill=\"none\" stroke=\"black\" points=\"93,-355.5 148,-355.5 \"/>\n<text text-anchor=\"middle\" x=\"120.5\" y=\"-340.3\" font-family=\"Times,serif\" font-size=\"14.00\">output:</text>\n<polyline fill=\"none\" stroke=\"black\" points=\"148,-332.5 148,-378.5 \"/>\n<text text-anchor=\"middle\" x=\"207\" y=\"-363.3\" font-family=\"Times,serif\" font-size=\"14.00\">(None, 28, 28, 1)</text>\n<polyline fill=\"none\" stroke=\"black\" points=\"148,-355.5 266,-355.5 \"/>\n<text text-anchor=\"middle\" x=\"207\" y=\"-340.3\" font-family=\"Times,serif\" font-size=\"14.00\">(None, 26, 26, 32)</text>\n</g>\n<!-- 140554520786448&#45;&gt;140554520788656 -->\n<g id=\"edge1\" class=\"edge\">\n<title>140554520786448-&gt;140554520788656</title>\n<path fill=\"none\" stroke=\"black\" d=\"M144.5,-415.37C144.5,-407.15 144.5,-397.66 144.5,-388.73\"/>\n<polygon fill=\"black\" stroke=\"black\" points=\"148,-388.61 144.5,-378.61 141,-388.61 148,-388.61\"/>\n</g>\n<!-- 140555352196624 -->\n<g id=\"node3\" class=\"node\">\n<title>140555352196624</title>\n<polygon fill=\"none\" stroke=\"black\" points=\"0,-249.5 0,-295.5 289,-295.5 289,-249.5 0,-249.5\"/>\n<text text-anchor=\"middle\" x=\"58\" y=\"-280.3\" font-family=\"Times,serif\" font-size=\"14.00\">max_pooling2d_1</text>\n<polyline fill=\"none\" stroke=\"black\" points=\"0,-272.5 116,-272.5 \"/>\n<text text-anchor=\"middle\" x=\"58\" y=\"-257.3\" font-family=\"Times,serif\" font-size=\"14.00\">MaxPooling2D</text>\n<polyline fill=\"none\" stroke=\"black\" points=\"116,-249.5 116,-295.5 \"/>\n<text text-anchor=\"middle\" x=\"143.5\" y=\"-280.3\" font-family=\"Times,serif\" font-size=\"14.00\">input:</text>\n<polyline fill=\"none\" stroke=\"black\" points=\"116,-272.5 171,-272.5 \"/>\n<text text-anchor=\"middle\" x=\"143.5\" y=\"-257.3\" font-family=\"Times,serif\" font-size=\"14.00\">output:</text>\n<polyline fill=\"none\" stroke=\"black\" points=\"171,-249.5 171,-295.5 \"/>\n<text text-anchor=\"middle\" x=\"230\" y=\"-280.3\" font-family=\"Times,serif\" font-size=\"14.00\">(None, 26, 26, 32)</text>\n<polyline fill=\"none\" stroke=\"black\" points=\"171,-272.5 289,-272.5 \"/>\n<text text-anchor=\"middle\" x=\"230\" y=\"-257.3\" font-family=\"Times,serif\" font-size=\"14.00\">(None, 13, 13, 32)</text>\n</g>\n<!-- 140554520788656&#45;&gt;140555352196624 -->\n<g id=\"edge2\" class=\"edge\">\n<title>140554520788656-&gt;140555352196624</title>\n<path fill=\"none\" stroke=\"black\" d=\"M144.5,-332.37C144.5,-324.15 144.5,-314.66 144.5,-305.73\"/>\n<polygon fill=\"black\" stroke=\"black\" points=\"148,-305.61 144.5,-295.61 141,-305.61 148,-305.61\"/>\n</g>\n<!-- 140554537209968 -->\n<g id=\"node4\" class=\"node\">\n<title>140554537209968</title>\n<polygon fill=\"none\" stroke=\"black\" points=\"25.5,-166.5 25.5,-212.5 263.5,-212.5 263.5,-166.5 25.5,-166.5\"/>\n<text text-anchor=\"middle\" x=\"58\" y=\"-197.3\" font-family=\"Times,serif\" font-size=\"14.00\">flatten_1</text>\n<polyline fill=\"none\" stroke=\"black\" points=\"25.5,-189.5 90.5,-189.5 \"/>\n<text text-anchor=\"middle\" x=\"58\" y=\"-174.3\" font-family=\"Times,serif\" font-size=\"14.00\">Flatten</text>\n<polyline fill=\"none\" stroke=\"black\" points=\"90.5,-166.5 90.5,-212.5 \"/>\n<text text-anchor=\"middle\" x=\"118\" y=\"-197.3\" font-family=\"Times,serif\" font-size=\"14.00\">input:</text>\n<polyline fill=\"none\" stroke=\"black\" points=\"90.5,-189.5 145.5,-189.5 \"/>\n<text text-anchor=\"middle\" x=\"118\" y=\"-174.3\" font-family=\"Times,serif\" font-size=\"14.00\">output:</text>\n<polyline fill=\"none\" stroke=\"black\" points=\"145.5,-166.5 145.5,-212.5 \"/>\n<text text-anchor=\"middle\" x=\"204.5\" y=\"-197.3\" font-family=\"Times,serif\" font-size=\"14.00\">(None, 13, 13, 32)</text>\n<polyline fill=\"none\" stroke=\"black\" points=\"145.5,-189.5 263.5,-189.5 \"/>\n<text text-anchor=\"middle\" x=\"204.5\" y=\"-174.3\" font-family=\"Times,serif\" font-size=\"14.00\">(None, 5408)</text>\n</g>\n<!-- 140555352196624&#45;&gt;140554537209968 -->\n<g id=\"edge3\" class=\"edge\">\n<title>140555352196624-&gt;140554537209968</title>\n<path fill=\"none\" stroke=\"black\" d=\"M144.5,-249.37C144.5,-241.15 144.5,-231.66 144.5,-222.73\"/>\n<polygon fill=\"black\" stroke=\"black\" points=\"148,-222.61 144.5,-212.61 141,-222.61 148,-222.61\"/>\n</g>\n<!-- 140555352087904 -->\n<g id=\"node5\" class=\"node\">\n<title>140555352087904</title>\n<polygon fill=\"none\" stroke=\"black\" points=\"42,-83.5 42,-129.5 247,-129.5 247,-83.5 42,-83.5\"/>\n<text text-anchor=\"middle\" x=\"72.5\" y=\"-114.3\" font-family=\"Times,serif\" font-size=\"14.00\">dense_3</text>\n<polyline fill=\"none\" stroke=\"black\" points=\"42,-106.5 103,-106.5 \"/>\n<text text-anchor=\"middle\" x=\"72.5\" y=\"-91.3\" font-family=\"Times,serif\" font-size=\"14.00\">Dense</text>\n<polyline fill=\"none\" stroke=\"black\" points=\"103,-83.5 103,-129.5 \"/>\n<text text-anchor=\"middle\" x=\"130.5\" y=\"-114.3\" font-family=\"Times,serif\" font-size=\"14.00\">input:</text>\n<polyline fill=\"none\" stroke=\"black\" points=\"103,-106.5 158,-106.5 \"/>\n<text text-anchor=\"middle\" x=\"130.5\" y=\"-91.3\" font-family=\"Times,serif\" font-size=\"14.00\">output:</text>\n<polyline fill=\"none\" stroke=\"black\" points=\"158,-83.5 158,-129.5 \"/>\n<text text-anchor=\"middle\" x=\"202.5\" y=\"-114.3\" font-family=\"Times,serif\" font-size=\"14.00\">(None, 5408)</text>\n<polyline fill=\"none\" stroke=\"black\" points=\"158,-106.5 247,-106.5 \"/>\n<text text-anchor=\"middle\" x=\"202.5\" y=\"-91.3\" font-family=\"Times,serif\" font-size=\"14.00\">(None, 128)</text>\n</g>\n<!-- 140554537209968&#45;&gt;140555352087904 -->\n<g id=\"edge4\" class=\"edge\">\n<title>140554537209968-&gt;140555352087904</title>\n<path fill=\"none\" stroke=\"black\" d=\"M144.5,-166.37C144.5,-158.15 144.5,-148.66 144.5,-139.73\"/>\n<polygon fill=\"black\" stroke=\"black\" points=\"148,-139.61 144.5,-129.61 141,-139.61 148,-139.61\"/>\n</g>\n<!-- 140554535862576 -->\n<g id=\"node6\" class=\"node\">\n<title>140554535862576</title>\n<polygon fill=\"none\" stroke=\"black\" points=\"45,-0.5 45,-46.5 244,-46.5 244,-0.5 45,-0.5\"/>\n<text text-anchor=\"middle\" x=\"75.5\" y=\"-31.3\" font-family=\"Times,serif\" font-size=\"14.00\">dense_4</text>\n<polyline fill=\"none\" stroke=\"black\" points=\"45,-23.5 106,-23.5 \"/>\n<text text-anchor=\"middle\" x=\"75.5\" y=\"-8.3\" font-family=\"Times,serif\" font-size=\"14.00\">Dense</text>\n<polyline fill=\"none\" stroke=\"black\" points=\"106,-0.5 106,-46.5 \"/>\n<text text-anchor=\"middle\" x=\"133.5\" y=\"-31.3\" font-family=\"Times,serif\" font-size=\"14.00\">input:</text>\n<polyline fill=\"none\" stroke=\"black\" points=\"106,-23.5 161,-23.5 \"/>\n<text text-anchor=\"middle\" x=\"133.5\" y=\"-8.3\" font-family=\"Times,serif\" font-size=\"14.00\">output:</text>\n<polyline fill=\"none\" stroke=\"black\" points=\"161,-0.5 161,-46.5 \"/>\n<text text-anchor=\"middle\" x=\"202.5\" y=\"-31.3\" font-family=\"Times,serif\" font-size=\"14.00\">(None, 128)</text>\n<polyline fill=\"none\" stroke=\"black\" points=\"161,-23.5 244,-23.5 \"/>\n<text text-anchor=\"middle\" x=\"202.5\" y=\"-8.3\" font-family=\"Times,serif\" font-size=\"14.00\">(None, 10)</text>\n</g>\n<!-- 140555352087904&#45;&gt;140554535862576 -->\n<g id=\"edge5\" class=\"edge\">\n<title>140555352087904-&gt;140554535862576</title>\n<path fill=\"none\" stroke=\"black\" d=\"M144.5,-83.37C144.5,-75.15 144.5,-65.66 144.5,-56.73\"/>\n<polygon fill=\"black\" stroke=\"black\" points=\"148,-56.61 144.5,-46.61 141,-56.61 148,-56.61\"/>\n</g>\n</g>\n</svg>"
          },
          "metadata": {},
          "execution_count": 35
        }
      ]
    },
    {
      "cell_type": "markdown",
      "source": [
        "using cross entropy"
      ],
      "metadata": {
        "id": "dG42mZZLUiD2"
      }
    },
    {
      "cell_type": "code",
      "source": [
        "modelcnn.compile(loss='categorical_crossentropy', optimizer='adam', metrics=['accuracy'])\n"
      ],
      "metadata": {
        "id": "h_HukZdXUdjl"
      },
      "execution_count": 38,
      "outputs": []
    },
    {
      "cell_type": "code",
      "source": [
        "historycnn = modelcnn.fit(x_train, y_train, epochs=10, batch_size=128, verbose=1, validation_data=(x_test, y_test))\n"
      ],
      "metadata": {
        "colab": {
          "base_uri": "https://localhost:8080/"
        },
        "id": "_oL730lUUk0A",
        "outputId": "387d91b4-1350-4a36-93f5-ed6afeb0a6d3"
      },
      "execution_count": 40,
      "outputs": [
        {
          "output_type": "stream",
          "name": "stdout",
          "text": [
            "Epoch 1/10\n",
            "469/469 [==============================] - 39s 84ms/step - loss: 0.1568 - accuracy: 0.9538 - val_loss: 0.0886 - val_accuracy: 0.9721\n",
            "Epoch 2/10\n",
            "469/469 [==============================] - 38s 82ms/step - loss: 0.0653 - accuracy: 0.9807 - val_loss: 0.0623 - val_accuracy: 0.9796\n",
            "Epoch 3/10\n",
            "469/469 [==============================] - 34s 71ms/step - loss: 0.0456 - accuracy: 0.9863 - val_loss: 0.0481 - val_accuracy: 0.9834\n",
            "Epoch 4/10\n",
            "469/469 [==============================] - 34s 74ms/step - loss: 0.0338 - accuracy: 0.9896 - val_loss: 0.0431 - val_accuracy: 0.9852\n",
            "Epoch 5/10\n",
            "469/469 [==============================] - 33s 70ms/step - loss: 0.0242 - accuracy: 0.9927 - val_loss: 0.0420 - val_accuracy: 0.9862\n",
            "Epoch 6/10\n",
            "469/469 [==============================] - 35s 75ms/step - loss: 0.0194 - accuracy: 0.9940 - val_loss: 0.0488 - val_accuracy: 0.9834\n",
            "Epoch 7/10\n",
            "469/469 [==============================] - 41s 87ms/step - loss: 0.0133 - accuracy: 0.9962 - val_loss: 0.0416 - val_accuracy: 0.9865\n",
            "Epoch 8/10\n",
            "469/469 [==============================] - 38s 81ms/step - loss: 0.0111 - accuracy: 0.9966 - val_loss: 0.0451 - val_accuracy: 0.9858\n",
            "Epoch 9/10\n",
            "469/469 [==============================] - 34s 73ms/step - loss: 0.0072 - accuracy: 0.9980 - val_loss: 0.0432 - val_accuracy: 0.9858\n",
            "Epoch 10/10\n",
            "469/469 [==============================] - 32s 68ms/step - loss: 0.0068 - accuracy: 0.9980 - val_loss: 0.0407 - val_accuracy: 0.9871\n"
          ]
        }
      ]
    },
    {
      "cell_type": "code",
      "source": [
        "score = modelcnn.evaluate(x_test, y_test, verbose=0)\n",
        "print('Test loss:', score[0])\n",
        "print('Test accuracy:', score[1])"
      ],
      "metadata": {
        "colab": {
          "base_uri": "https://localhost:8080/"
        },
        "id": "8Z3yZAeLUmK3",
        "outputId": "22172f2a-18fd-4af9-f799-00f75ae868c2"
      },
      "execution_count": 41,
      "outputs": [
        {
          "output_type": "stream",
          "name": "stdout",
          "text": [
            "Test loss: 0.04067683592438698\n",
            "Test accuracy: 0.9871000051498413\n"
          ]
        }
      ]
    },
    {
      "cell_type": "code",
      "source": [
        "# loss fig \n",
        "plt.figure(figsize=(5,3))\n",
        "plt.plot(historycnn.epoch,historycnn.history['loss'])\n",
        "plt.title('loss')"
      ],
      "metadata": {
        "colab": {
          "base_uri": "https://localhost:8080/",
          "height": 331
        },
        "id": "DBl8VzSyU4Fe",
        "outputId": "6b28ef1b-e89b-40fb-a06e-ad4ae16dda68"
      },
      "execution_count": 42,
      "outputs": [
        {
          "output_type": "execute_result",
          "data": {
            "text/plain": [
              "Text(0.5, 1.0, 'loss')"
            ]
          },
          "metadata": {},
          "execution_count": 42
        },
        {
          "output_type": "display_data",
          "data": {
            "text/plain": [
              "<Figure size 500x300 with 1 Axes>"
            ],
            "image/png": "[encoded data removed]"
          },
          "metadata": {}
        }
      ]
    },
    {
      "cell_type": "code",
      "source": [
        "# accurcy fig\n",
        "plt.figure(figsize=(5,3))\n",
        "plt.plot(historycnn.epoch,historycnn.history['accuracy'])\n",
        "plt.title('accuracy');"
      ],
      "metadata": {
        "colab": {
          "base_uri": "https://localhost:8080/",
          "height": 314
        },
        "id": "71vZZl5DU8Sw",
        "outputId": "cc7414f7-40c1-4286-dce3-01605c435aed"
      },
      "execution_count": 43,
      "outputs": [
        {
          "output_type": "display_data",
          "data": {
            "text/plain": [
              "<Figure size 500x300 with 1 Axes>"
            ],
            "image/png": "[encoded data removed]"
          },
          "metadata": {}
        }
      ]
    }
  ]
}